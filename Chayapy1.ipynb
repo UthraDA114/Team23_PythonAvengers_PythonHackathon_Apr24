{
 "cells": [
  {
   "cell_type": "code",
   "execution_count": 1,
   "id": "4fc70811-729b-4f76-ab17-efec0b4fc660",
   "metadata": {},
   "outputs": [],
   "source": [
    "import pandas as pd"
   ]
  },
  {
   "cell_type": "code",
   "execution_count": 2,
   "id": "8a221872-fd78-4187-9871-1a50fd9cd06b",
   "metadata": {},
   "outputs": [
    {
     "name": "stdout",
     "output_type": "stream",
     "text": [
      "      inpatient_number DestinationDischarge admission_ward admission_way  \\\n",
      "0               857781                 Home     Cardiology  NonEmergency   \n",
      "1               743087                 Home     Cardiology  NonEmergency   \n",
      "2               866418                 Home     Cardiology  NonEmergency   \n",
      "3               775928                 Home     Cardiology     Emergency   \n",
      "4               810128                 Home     Cardiology  NonEmergency   \n",
      "...                ...                  ...            ...           ...   \n",
      "2003            740689   HealthcareFacility    GeneralWard     Emergency   \n",
      "2004            734280   HealthcareFacility    GeneralWard     Emergency   \n",
      "2005            781004   HealthcareFacility     Cardiology     Emergency   \n",
      "2006            744870              Unknown     Cardiology  NonEmergency   \n",
      "2007            791864                 Home     Cardiology     Emergency   \n",
      "\n",
      "     discharge_department  visit_times respiratory_support oxygen_inhalation  \\\n",
      "0              Cardiology            1                 NaN     OxygenTherapy   \n",
      "1              Cardiology            1                 NaN     OxygenTherapy   \n",
      "2              Cardiology            2                 NaN     OxygenTherapy   \n",
      "3              Cardiology            1                 NaN     OxygenTherapy   \n",
      "4              Cardiology            1                 NaN     OxygenTherapy   \n",
      "...                   ...          ...                 ...               ...   \n",
      "2003          GeneralWard            1                 NaN     OxygenTherapy   \n",
      "2004          GeneralWard            1                 NaN     OxygenTherapy   \n",
      "2005           Cardiology            1                 NaN     OxygenTherapy   \n",
      "2006           Cardiology            1                 IMV     OxygenTherapy   \n",
      "2007           Cardiology            1                 NaN     OxygenTherapy   \n",
      "\n",
      "      dischargeDay Admission_date  ... death_within_28_days  \\\n",
      "0               11     2017-01-24  ...                    0   \n",
      "1                8     2017-05-05  ...                    0   \n",
      "2                5     2016-11-18  ...                    0   \n",
      "3               11     2017-10-02  ...                    0   \n",
      "4                5     2019-11-17  ...                    0   \n",
      "...            ...            ...  ...                  ...   \n",
      "2003             5     2016-02-07  ...                    0   \n",
      "2004             8     2017-03-29  ...                    0   \n",
      "2005            14     2018-01-22  ...                    0   \n",
      "2006             1     2019-11-27  ...                    1   \n",
      "2007             6     2017-02-17  ...                    0   \n",
      "\n",
      "      re_admission_within_28_days  death_within_3_months  \\\n",
      "0                               0                      0   \n",
      "1                               0                      0   \n",
      "2                               0                      0   \n",
      "3                               1                      0   \n",
      "4                               0                      0   \n",
      "...                           ...                    ...   \n",
      "2003                            0                      0   \n",
      "2004                            0                      0   \n",
      "2005                            0                      0   \n",
      "2006                            0                      1   \n",
      "2007                            0                      0   \n",
      "\n",
      "      re_admission_within_3_months  death_within_6_months  \\\n",
      "0                                0                      0   \n",
      "1                                0                      0   \n",
      "2                                0                      0   \n",
      "3                                1                      0   \n",
      "4                                0                      0   \n",
      "...                            ...                    ...   \n",
      "2003                             0                      0   \n",
      "2004                             0                      0   \n",
      "2005                             1                      0   \n",
      "2006                             0                      1   \n",
      "2007                             0                      0   \n",
      "\n",
      "      re_admission_within_6_months  time_of_death__days_from_admission  \\\n",
      "0                                0                                 NaN   \n",
      "1                                0                                 NaN   \n",
      "2                                0                                 NaN   \n",
      "3                                1                                 NaN   \n",
      "4                                0                                 NaN   \n",
      "...                            ...                                 ...   \n",
      "2003                             0                                 NaN   \n",
      "2004                             0                                 NaN   \n",
      "2005                             1                                 NaN   \n",
      "2006                             0                                 1.0   \n",
      "2007                             0                                 NaN   \n",
      "\n",
      "      readmission_time_days_from_admission  \\\n",
      "0                                      NaN   \n",
      "1                                      NaN   \n",
      "2                                      NaN   \n",
      "3                                     19.0   \n",
      "4                                      NaN   \n",
      "...                                    ...   \n",
      "2003                                   NaN   \n",
      "2004                                   NaN   \n",
      "2005                                  76.0   \n",
      "2006                                   NaN   \n",
      "2007                                   NaN   \n",
      "\n",
      "      return_to_emergency_department_within_6_months  \\\n",
      "0                                                0.0   \n",
      "1                                                0.0   \n",
      "2                                                0.0   \n",
      "3                                                1.0   \n",
      "4                                                0.0   \n",
      "...                                              ...   \n",
      "2003                                             0.0   \n",
      "2004                                             0.0   \n",
      "2005                                             1.0   \n",
      "2006                                             0.0   \n",
      "2007                                             0.0   \n",
      "\n",
      "      time_to_emergency_department_within_6_months  \n",
      "0                                              NaN  \n",
      "1                                              NaN  \n",
      "2                                              NaN  \n",
      "3                                             19.0  \n",
      "4                                              NaN  \n",
      "...                                            ...  \n",
      "2003                                           NaN  \n",
      "2004                                           NaN  \n",
      "2005                                          76.0  \n",
      "2006                                           NaN  \n",
      "2007                                           NaN  \n",
      "\n",
      "[2008 rows x 21 columns]\n"
     ]
    }
   ],
   "source": [
    "df = pd.read_excel('Cardiac_Outcomes.xlsx')\n",
    "print(df)"
   ]
  },
  {
   "cell_type": "code",
   "execution_count": 3,
   "id": "ea359e75-a872-4a5f-9786-091be9d2a183",
   "metadata": {},
   "outputs": [
    {
     "name": "stdout",
     "output_type": "stream",
     "text": [
      "['Cardiology' 'GeneralWard' 'ICU' 'Others']\n"
     ]
    }
   ],
   "source": [
    "unique_admission=df['admission_ward'].unique()\n",
    "print(unique_admission)"
   ]
  },
  {
   "cell_type": "code",
   "execution_count": 4,
   "id": "1f704bdb-f123-45e9-9112-9cb675a21ff8",
   "metadata": {},
   "outputs": [
    {
     "name": "stdout",
     "output_type": "stream",
     "text": [
      "admission_ward\n",
      "Cardiology     1547\n",
      "GeneralWard     265\n",
      "ICU              15\n",
      "Others          181\n",
      "Name: visit_times, dtype: int64\n"
     ]
    }
   ],
   "source": [
    "ward_visits=df.groupby('admission_ward')['visit_times'].count()\n",
    "print(ward_visits)"
   ]
  },
  {
   "cell_type": "code",
   "execution_count": 9,
   "id": "4687003d-209b-4313-b6d9-30b3a50ddd1b",
   "metadata": {},
   "outputs": [
    {
     "name": "stdout",
     "output_type": "stream",
     "text": [
      "Cardiology has maximum number of visits scheduled\n"
     ]
    }
   ],
   "source": [
    "maxvisits=ward_visits.idxmax()\n",
    "print('{0} has maximum number of visits scheduled'.format(maxvisits))"
   ]
  },
  {
   "cell_type": "code",
   "execution_count": 11,
   "id": "db1f5fe4-cb1f-41d0-bd63-f802240394f3",
   "metadata": {},
   "outputs": [
    {
     "name": "stdout",
     "output_type": "stream",
     "text": [
      "1547\n"
     ]
    }
   ],
   "source": [
    "maxvisitscount=ward_visits[maxvisits]\n",
    "print(maxvisitscount)"
   ]
  },
  {
   "cell_type": "code",
   "execution_count": null,
   "id": "d542483d-5173-48d7-b21a-032cf968c827",
   "metadata": {},
   "outputs": [],
   "source": []
  }
 ],
 "metadata": {
  "kernelspec": {
   "display_name": "Python 3 (ipykernel)",
   "language": "python",
   "name": "python3"
  },
  "language_info": {
   "codemirror_mode": {
    "name": "ipython",
    "version": 3
   },
   "file_extension": ".py",
   "mimetype": "text/x-python",
   "name": "python",
   "nbconvert_exporter": "python",
   "pygments_lexer": "ipython3",
   "version": "3.11.7"
  }
 },
 "nbformat": 4,
 "nbformat_minor": 5
}
